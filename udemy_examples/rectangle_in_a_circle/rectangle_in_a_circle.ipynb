{
 "cells": [
  {
   "cell_type": "code",
   "execution_count": 1,
   "metadata": {},
   "outputs": [],
   "source": [
    "from pyomo.environ import *\n",
    "import os\n",
    "\n",
    "solverpath_exe = 'C:\\\\Users\\\\Yuri Muniz\\\\OneDrive\\\\Documentos\\\\solvers\\\\ipopt-win64\\\\ipopt'"
   ]
  },
  {
   "source": [
    "# Maximum area of a rectangle inside a circle\n",
    "\n",
    "For a circle centered at $x,y,=0$, the objective function can be written as\n",
    "\n",
    "$$F(x,y) = 4xy,$$\n",
    "\n",
    "where x and y are the coordinates of the upper right vertex of the rectangle. The constraints are\n",
    "\n",
    "$$x^2 + y^2 = R^2$$\n",
    "$$x,y>0$$"
   ],
   "cell_type": "markdown",
   "metadata": {}
  },
  {
   "cell_type": "code",
   "execution_count": 2,
   "metadata": {},
   "outputs": [],
   "source": [
    "R = 10\n",
    "\n",
    "model = ConcreteModel()\n",
    "model.R=Param(initialize = R)\n",
    "model.x=Var(bounds=(0, model.R), initialize = model.R)\n",
    "model.y=Var(bounds=(0, model.R), initialize = model.R)\n",
    "model.C1=Constraint(expr = model.x**2 + model.y**2 == model.R**2)\n",
    "model.f1=Objective(expr= 4*model.x*model.y, sense = maximize)"
   ]
  },
  {
   "cell_type": "code",
   "execution_count": 3,
   "metadata": {},
   "outputs": [],
   "source": [
    "opt = SolverFactory('ipopt', executable=solverpath_exe)\n",
    "results=opt.solve(model);"
   ]
  },
  {
   "cell_type": "code",
   "execution_count": 4,
   "metadata": {},
   "outputs": [
    {
     "output_type": "stream",
     "name": "stdout",
     "text": [
      "x=  7.071\ny=  7.071\nOF=  200.0\n"
     ]
    }
   ],
   "source": [
    "print('x= ',round(value(model.x),3))\n",
    "print('y= ',round(value(model.y),3))\n",
    "print('OF= ',round(value(model.f1),3) )"
   ]
  },
  {
   "cell_type": "code",
   "execution_count": 5,
   "metadata": {},
   "outputs": [],
   "source": [
    "# Fix one side of the rectangle\n",
    "model.x.fix(1)\n",
    "results = opt.solve(model);"
   ]
  },
  {
   "cell_type": "code",
   "execution_count": 6,
   "metadata": {},
   "outputs": [
    {
     "output_type": "stream",
     "name": "stdout",
     "text": [
      "x=  1\ny=  9.95\nOF=  39.799\n"
     ]
    }
   ],
   "source": [
    "print('x= ',round(value(model.x),3))\n",
    "print('y= ',round(value(model.y),3))\n",
    "print('OF= ',round(value(model.f1),3) )"
   ]
  },
  {
   "cell_type": "code",
   "execution_count": 7,
   "metadata": {},
   "outputs": [],
   "source": [
    "# Fix the other side of the rectangle\n",
    "model.x.unfix()\n",
    "model.y.fix(4)\n",
    "opt.solve(model);"
   ]
  },
  {
   "cell_type": "code",
   "execution_count": 8,
   "metadata": {},
   "outputs": [
    {
     "output_type": "stream",
     "name": "stdout",
     "text": [
      "x=  9.165\ny=  4\nOF=  146.642\n"
     ]
    }
   ],
   "source": [
    "print('x= ',round(value(model.x),3))\n",
    "print('y= ',round(value(model.y),3))\n",
    "print('OF= ',round(value(model.f1),3))"
   ]
  }
 ],
 "metadata": {
  "kernelspec": {
   "name": "python3",
   "display_name": "Python 3.9.1 64-bit",
   "metadata": {
    "interpreter": {
     "hash": "0ac6ee84ca7ae2bbcf8e809201de8f94904d7c576a6499408efeade51f999ec0"
    }
   }
  },
  "language_info": {
   "codemirror_mode": {
    "name": "ipython",
    "version": 3
   },
   "file_extension": ".py",
   "mimetype": "text/x-python",
   "name": "python",
   "nbconvert_exporter": "python",
   "pygments_lexer": "ipython3",
   "version": "3.9.1-final"
  }
 },
 "nbformat": 4,
 "nbformat_minor": 4
}
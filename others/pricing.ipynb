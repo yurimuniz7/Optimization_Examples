{
 "metadata": {
  "language_info": {
   "codemirror_mode": {
    "name": "ipython",
    "version": 3
   },
   "file_extension": ".py",
   "mimetype": "text/x-python",
   "name": "python",
   "nbconvert_exporter": "python",
   "pygments_lexer": "ipython3",
   "version": "3.9.1-final"
  },
  "orig_nbformat": 2,
  "kernelspec": {
   "name": "python3",
   "display_name": "Python 3.9.1 64-bit",
   "metadata": {
    "interpreter": {
     "hash": "0ac6ee84ca7ae2bbcf8e809201de8f94904d7c576a6499408efeade51f999ec0"
    }
   }
  }
 },
 "nbformat": 4,
 "nbformat_minor": 2,
 "cells": [
  {
   "cell_type": "code",
   "execution_count": 1,
   "metadata": {},
   "outputs": [],
   "source": [
    "# Importings\n",
    "import pyomo.environ as pyo\n",
    "import os\n",
    "import numpy as np\n",
    "import pandas as pd\n",
    "import math\n",
    "\n",
    "solverpath_exe = 'C:\\\\Users\\\\Yuri Muniz\\\\OneDrive\\\\Documentos\\\\solvers\\\\ipopt-win64\\\\ipopt'"
   ]
  },
  {
   "source": [
    "### Decision variables:\n",
    "\n",
    "$$-10 \\le p_i \\le 20,$$\n",
    "where $p_i$ is the percentage change in the price of product $i$.\n",
    "\n",
    "### Objective: \n",
    "\n",
    "$$\\max \\mbox{profit}(R,\\{S_i\\},\\{P_i\\}) = R\\sum_i S_i(P_i - C_i),$$\n",
    "\n",
    "where\n",
    "\n",
    "$$S_i = S_{0i}\\times (1 - I_{vi}p_i),$$\n",
    "\n",
    "$$P_i = P_{0i}\\times(1 + p_i/100),$$\n",
    "\n",
    "$$R = R_0\\times \\prod_i\\left(1 - I_{ai}p_i\\right),$$\n",
    "\n",
    "and all else are input parameters given by\n",
    "\n",
    "- $S_{0i}$: average units sold of product $i$ in the initial configuration of prices;\n",
    "- $P_{0i}$: average price per unit sold of product $i$ in the initial configuration of prices;\n",
    "- $C_i$: cost of product $i$ (assumed to be constant);\n",
    "- $R_0 = 0.05$: initial customer response rate (5%);\n",
    "- $I_{vi}$: increase sale volume per product. How much more sales we get of a product if we decrease its price by 1%;\n",
    "- $I_{ai}$: Incremental acquisition of product $i$. How much more customers respond to our whole catalog of products; if we decrease the price of product $i$ by 1%.\n",
    "\n",
    "### Ref.: \n",
    "https://www.analyticsvidhya.com/blog/2016/07/solving-case-study-optimize-products-price-online-vendor-level-hard/\n",
    "\n",
    "### Useful links to understand the variabes:\n",
    "https://www.repsly.com/blog/consumer-goods/how-to-calculate-sales-volume-use-it-to-win-in-field"
   ],
   "cell_type": "markdown",
   "metadata": {}
  },
  {
   "cell_type": "code",
   "execution_count": 2,
   "metadata": {},
   "outputs": [
    {
     "output_type": "execute_result",
     "data": {
      "text/plain": [
       "    Products  Avg_Price_per_unit  Cost_per_unit  Average_Profit_per_unit  \\\n",
       "0  Product 1                  95             92                      2.8   \n",
       "1  Product 2                  37             27                     10.0   \n",
       "2  Product 3                  34             26                      8.5   \n",
       "3  Product 4                  32             30                      2.8   \n",
       "4  Product 5                  62             45                     16.0   \n",
       "\n",
       "   Average_units_sold  Incremental_acquisition  Increase_sale_volume  \n",
       "0                 0.6                  0.00323               0.08906  \n",
       "1                 0.8                  0.00106               0.01991  \n",
       "2                 0.6                  0.00328               0.03778  \n",
       "3                 0.7                  0.00000               0.08562  \n",
       "4                 1.0                  0.00079               0.02637  "
      ],
      "text/html": "<div>\n<style scoped>\n    .dataframe tbody tr th:only-of-type {\n        vertical-align: middle;\n    }\n\n    .dataframe tbody tr th {\n        vertical-align: top;\n    }\n\n    .dataframe thead th {\n        text-align: right;\n    }\n</style>\n<table border=\"1\" class=\"dataframe\">\n  <thead>\n    <tr style=\"text-align: right;\">\n      <th></th>\n      <th>Products</th>\n      <th>Avg_Price_per_unit</th>\n      <th>Cost_per_unit</th>\n      <th>Average_Profit_per_unit</th>\n      <th>Average_units_sold</th>\n      <th>Incremental_acquisition</th>\n      <th>Increase_sale_volume</th>\n    </tr>\n  </thead>\n  <tbody>\n    <tr>\n      <th>0</th>\n      <td>Product 1</td>\n      <td>95</td>\n      <td>92</td>\n      <td>2.8</td>\n      <td>0.6</td>\n      <td>0.00323</td>\n      <td>0.08906</td>\n    </tr>\n    <tr>\n      <th>1</th>\n      <td>Product 2</td>\n      <td>37</td>\n      <td>27</td>\n      <td>10.0</td>\n      <td>0.8</td>\n      <td>0.00106</td>\n      <td>0.01991</td>\n    </tr>\n    <tr>\n      <th>2</th>\n      <td>Product 3</td>\n      <td>34</td>\n      <td>26</td>\n      <td>8.5</td>\n      <td>0.6</td>\n      <td>0.00328</td>\n      <td>0.03778</td>\n    </tr>\n    <tr>\n      <th>3</th>\n      <td>Product 4</td>\n      <td>32</td>\n      <td>30</td>\n      <td>2.8</td>\n      <td>0.7</td>\n      <td>0.00000</td>\n      <td>0.08562</td>\n    </tr>\n    <tr>\n      <th>4</th>\n      <td>Product 5</td>\n      <td>62</td>\n      <td>45</td>\n      <td>16.0</td>\n      <td>1.0</td>\n      <td>0.00079</td>\n      <td>0.02637</td>\n    </tr>\n  </tbody>\n</table>\n</div>"
     },
     "metadata": {},
     "execution_count": 2
    }
   ],
   "source": [
    "# Dataset from ref.\n",
    "prod_df = pd.read_csv('Vendor_data.csv')\n",
    "prod_df.head()"
   ]
  },
  {
   "cell_type": "code",
   "execution_count": 3,
   "metadata": {},
   "outputs": [
    {
     "output_type": "execute_result",
     "data": {
      "text/plain": [
       "   P0   C   S0        Ia        Iv\n",
       "0  95  92  0.6  0.000323  0.008906\n",
       "1  37  27  0.8  0.000106  0.001991\n",
       "2  34  26  0.6  0.000328  0.003778\n",
       "3  32  30  0.7  0.000000  0.008562\n",
       "4  62  45  1.0  0.000079  0.002637"
      ],
      "text/html": "<div>\n<style scoped>\n    .dataframe tbody tr th:only-of-type {\n        vertical-align: middle;\n    }\n\n    .dataframe tbody tr th {\n        vertical-align: top;\n    }\n\n    .dataframe thead th {\n        text-align: right;\n    }\n</style>\n<table border=\"1\" class=\"dataframe\">\n  <thead>\n    <tr style=\"text-align: right;\">\n      <th></th>\n      <th>P0</th>\n      <th>C</th>\n      <th>S0</th>\n      <th>Ia</th>\n      <th>Iv</th>\n    </tr>\n  </thead>\n  <tbody>\n    <tr>\n      <th>0</th>\n      <td>95</td>\n      <td>92</td>\n      <td>0.6</td>\n      <td>0.000323</td>\n      <td>0.008906</td>\n    </tr>\n    <tr>\n      <th>1</th>\n      <td>37</td>\n      <td>27</td>\n      <td>0.8</td>\n      <td>0.000106</td>\n      <td>0.001991</td>\n    </tr>\n    <tr>\n      <th>2</th>\n      <td>34</td>\n      <td>26</td>\n      <td>0.6</td>\n      <td>0.000328</td>\n      <td>0.003778</td>\n    </tr>\n    <tr>\n      <th>3</th>\n      <td>32</td>\n      <td>30</td>\n      <td>0.7</td>\n      <td>0.000000</td>\n      <td>0.008562</td>\n    </tr>\n    <tr>\n      <th>4</th>\n      <td>62</td>\n      <td>45</td>\n      <td>1.0</td>\n      <td>0.000079</td>\n      <td>0.002637</td>\n    </tr>\n  </tbody>\n</table>\n</div>"
     },
     "metadata": {},
     "execution_count": 3
    }
   ],
   "source": [
    "# Renaming columns according to the problem description\n",
    "cols_dict = {'Avg_Price_per_unit': 'P0', \n",
    "'Cost_per_unit': 'C',\n",
    "'Average_units_sold':'S0', \n",
    "'Incremental_acquisition': 'Ia',\n",
    "'Increase_sale_volume':'Iv'}\n",
    "prod_df = prod_df.rename(columns=cols_dict)\n",
    "prod_df = prod_df[list(cols_dict.values())]\n",
    "\n",
    "# Changing the scale of Ia and Iv to be associate to a decrease of 1% instead of 10%\n",
    "prod_df['Ia'] = prod_df['Ia']/10\n",
    "prod_df['Iv'] = prod_df['Iv']/10\n",
    "\n",
    "prod_df.head()"
   ]
  },
  {
   "cell_type": "code",
   "execution_count": 4,
   "metadata": {},
   "outputs": [
    {
     "output_type": "stream",
     "name": "stdout",
     "text": [
      "profit prior optimization: 164.3\n"
     ]
    }
   ],
   "source": [
    "R0 = 0.05\n",
    "profit0 = (prod_df['S0']*(prod_df['P0'] - prod_df['C'])).sum()*R0\n",
    "print('profit prior optimization: '+ str(round(profit0,1)))"
   ]
  },
  {
   "cell_type": "code",
   "execution_count": 5,
   "metadata": {},
   "outputs": [],
   "source": [
    "model = pyo.AbstractModel()\n",
    "\n",
    "# Params\n",
    "model.N = pyo.Param()\n",
    "model.i = pyo.RangeSet(1,model.N)\n",
    "model.P0 = pyo.Param(model.i)\n",
    "model.C = pyo.Param(model.i)\n",
    "model.S0 = pyo.Param(model.i)\n",
    "model.R0 = pyo.Param()\n",
    "model.Ia = pyo.Param(model.i)\n",
    "model.Iv = pyo.Param(model.i)\n",
    "\n",
    "# variable (price percentage change)\n",
    "model.p = pyo.Var(model.i, bounds = (-10,20), within = pyo.Reals, initialize = 0)\n",
    "\n",
    "# auxiliar variables\n",
    "model.R = pyo.Var()\n",
    "def R_constraint(model):\n",
    "    return model.R == model.R0*math.prod([1 - model.p[i]*model.Ia[i] for i in model.i])\n",
    "model.RC = pyo.Constraint(rule = R_constraint)\n",
    "\n",
    "model.S = pyo.Var(model.i, within = pyo.NonNegativeReals)\n",
    "def S_constraint(model,i):\n",
    "    return model.S[i] == model.S0[i]*(1 - model.Iv[i]*model.p[i])\n",
    "model.SC = pyo.Constraint(model.i, rule = S_constraint)\n",
    "\n",
    "model.P = pyo.Var(model.i, within = pyo.NonNegativeReals)\n",
    "def P_constraint(model,i):\n",
    "    return model.P[i] == model.P0[i]*(1 + model.p[i]/100)\n",
    "model.PC = pyo.Constraint(model.i, rule = P_constraint)\n",
    "\n",
    "# Objective\n",
    "model.OF = pyo.Var()\n",
    "def OF_constraint(model):\n",
    "    return model.OF == model.R*sum(model.S[s]*(model.P[s] - model.C[s]) for s in model.i)\n",
    "model.OFC = pyo.Constraint(rule = OF_constraint)\n",
    "\n",
    "model.obj = pyo.Objective(expr = model.OF, sense = pyo.maximize)\n",
    "\n",
    "# ipopt solver\n",
    "opt = pyo.SolverFactory('ipopt', executable=solverpath_exe)"
   ]
  },
  {
   "cell_type": "code",
   "execution_count": 6,
   "metadata": {},
   "outputs": [
    {
     "output_type": "stream",
     "name": "stdout",
     "text": [
      "optimized profit: 308.0\n"
     ]
    }
   ],
   "source": [
    "N = 250\n",
    "\n",
    "input_dict =  {None:\n",
    "    {'N':{None:N},\n",
    "     'P0':{i+1:v for i,v in enumerate(prod_df['P0'][:N].tolist())},\n",
    "     'C':{i+1:v for i,v in enumerate(prod_df['C'][:N].tolist())},\n",
    "     'S0':{i+1:v for i,v in enumerate(prod_df['S0'][:N].tolist())},\n",
    "     'R0':{None: 0.05},\n",
    "     'Ia':{i+1:v for i,v in enumerate(prod_df['Ia'][:N].tolist())},\n",
    "     'Iv':{i+1:v for i,v in enumerate(prod_df['Iv'][:N].tolist())}\n",
    "    }\n",
    "                }\n",
    "\n",
    "instance = model.create_instance(input_dict)\n",
    "results = opt.solve(instance)\n",
    "print(f'optimized profit: {round(pyo.value(instance.OF),0)}')"
   ]
  },
  {
   "cell_type": "code",
   "execution_count": 7,
   "metadata": {},
   "outputs": [
    {
     "output_type": "stream",
     "name": "stdout",
     "text": [
      "20th first product price percentage changes:\n\n-10.0\n-10.0\n-10.0\n20.0\n20.0\n20.0\n20.0\n-10.0\n-10.0\n20.0\n-10.0\n20.0\n-10.0\n-10.0\n20.0\n-10.0\n20.0\n-4.1\n-10.0\n-10.0\n"
     ]
    }
   ],
   "source": [
    "print('20th first product price percentage changes:\\n')\n",
    "for i in range(1,21):\n",
    "    print(round(pyo.value(instance.p[i]),1))"
   ]
  }
 ]
}